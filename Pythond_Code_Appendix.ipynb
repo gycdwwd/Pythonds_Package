{
 "cells": [
  {
   "cell_type": "markdown",
   "id": "f77663a7",
   "metadata": {},
   "source": [
    "## ActiveCode 1 of 4.6"
   ]
  },
  {
   "cell_type": "code",
   "execution_count": 1,
   "id": "28afac66",
   "metadata": {},
   "outputs": [],
   "source": [
    "# The following is better\n",
    "# elif symbol == \")\": "
   ]
  },
  {
   "cell_type": "markdown",
   "id": "impressive-registrar",
   "metadata": {},
   "source": [
    "## 4.21"
   ]
  },
  {
   "cell_type": "code",
   "execution_count": 2,
   "id": "cognitive-magazine",
   "metadata": {},
   "outputs": [],
   "source": [
    "class Node:\n",
    "    def __init__(self,initdata):\n",
    "        self.data = initdata\n",
    "        self.next = None\n",
    "\n",
    "    def getData(self):\n",
    "        return self.data\n",
    "\n",
    "    def getNext(self):\n",
    "        return self.next\n",
    "\n",
    "    def setData(self,newdata):\n",
    "        self.data = newdata\n",
    "\n",
    "    def setNext(self,newnext):\n",
    "        self.next = newnext\n",
    "\n",
    "\n",
    "class UnorderedList:\n",
    "\n",
    "    def __init__(self):\n",
    "        self.head = None\n",
    "\n",
    "    def isEmpty(self):\n",
    "        return self.head == None\n",
    "\n",
    "    def add(self,item):\n",
    "        temp = Node(item)\n",
    "        temp.setNext(self.head)\n",
    "        self.head = temp\n",
    "\n",
    "    def size(self):\n",
    "        current = self.head\n",
    "        count = 0\n",
    "        while current != None:\n",
    "            count = count + 1\n",
    "            current = current.getNext()\n",
    "\n",
    "        return count\n",
    "\n",
    "    def search(self,item):\n",
    "        current = self.head\n",
    "        found = False\n",
    "        while current != None and not found:\n",
    "            if current.getData() == item:\n",
    "                found = True\n",
    "            else:\n",
    "                current = current.getNext()\n",
    "\n",
    "        return found\n",
    "\n",
    "    def remove(self,item):\n",
    "        current = self.head\n",
    "        previous = None\n",
    "        found = False\n",
    "        while not found:\n",
    "            if current.getData() == item:\n",
    "                found = True\n",
    "            else:\n",
    "                previous = current\n",
    "                current = current.getNext()\n",
    "\n",
    "        if previous == None:\n",
    "            self.head = current.getNext()\n",
    "        else:\n",
    "            previous.setNext(current.getNext())\n",
    "            \n",
    "    def append(self,item):\n",
    "        previous = None\n",
    "        current = self.head\n",
    "        while current != None:\n",
    "            previous = current\n",
    "            current = current.getNext()\n",
    "        temp = Node(item)\n",
    "        previous.setNext(temp)\n",
    "        \n",
    "\n",
    "mylist = UnorderedList()\n",
    "mylist.add(54)\n",
    "mylist.append(54)"
   ]
  },
  {
   "cell_type": "markdown",
   "id": "spectacular-classification",
   "metadata": {},
   "source": [
    "## Test Running Time"
   ]
  },
  {
   "cell_type": "code",
   "execution_count": null,
   "id": "sunrise-interpretation",
   "metadata": {},
   "outputs": [],
   "source": [
    "import timeit\n",
    "import random\n",
    "\n",
    "for i in range(10000,1000001,20000):\n",
    "    t = timeit.Timer(\"random.randrange(%d) in x\"%i,\n",
    "                     \"from __main__ import random,x\")\n",
    "    x = list(range(i))\n",
    "    lst_time = t.timeit(number=1000)\n",
    "    x = {j:None for j in range(i)}\n",
    "    d_time = t.timeit(number=1000)\n",
    "    #print(\"%d,%10.3f,%10.3f\" % (i, lst_time, d_time))"
   ]
  },
  {
   "cell_type": "markdown",
   "id": "magnetic-enclosure",
   "metadata": {},
   "source": [
    "## 5.5 Recursion"
   ]
  },
  {
   "cell_type": "code",
   "execution_count": 4,
   "id": "aerial-algebra",
   "metadata": {},
   "outputs": [
    {
     "data": {
      "text/plain": [
       "True"
      ]
     },
     "execution_count": 4,
     "metadata": {},
     "output_type": "execute_result"
    }
   ],
   "source": [
    "def reverse(s):\n",
    "    n = len(s)\n",
    "    if n == 1:\n",
    "        return s\n",
    "    elif n == 0:\n",
    "        return s\n",
    "    else:\n",
    "        return s[n-1] + reverse(s[:n-1])\n",
    "\n",
    "reverse(\"hello\") == \"olleh\"\n"
   ]
  },
  {
   "cell_type": "code",
   "execution_count": 7,
   "id": "single-reward",
   "metadata": {},
   "outputs": [
    {
     "data": {
      "text/plain": [
       "-100"
      ]
     },
     "execution_count": 7,
     "metadata": {},
     "output_type": "execute_result"
    }
   ],
   "source": [
    "points = [[-100,-50],[0,100],[100,-50]]\n",
    "\n",
    "points[0][0]"
   ]
  },
  {
   "cell_type": "markdown",
   "id": "c8a4ca10",
   "metadata": {},
   "source": [
    "## 7.5 Trees"
   ]
  },
  {
   "cell_type": "code",
   "execution_count": 15,
   "id": "5d2fff83",
   "metadata": {},
   "outputs": [
    {
     "data": {
      "text/plain": [
       "True"
      ]
     },
     "execution_count": 15,
     "metadata": {},
     "output_type": "execute_result"
    }
   ],
   "source": [
    "import pythonds\n",
    "def buildTree():\n",
    "    r = BinaryTree('a')\n",
    "    temp1 = r.insertLeft('b')\n",
    "    temp2 = r.insertRight('c')\n",
    "    temp1 = r.getLeftChild()\n",
    "    temp2 = r.getRightChild()\n",
    "    temp1.insertLeft('d')\n",
    "    temp2.insertLeft('e')\n",
    "    temp2.insertRight('f')\n",
    "    return r\n",
    "\n",
    "ttree = buildTree()\n",
    "ttree.getRightChild().getLeftChild().getRootVal() == 'e'\n",
    "\n"
   ]
  },
  {
   "cell_type": "code",
   "execution_count": 17,
   "id": "f0b5c4b9",
   "metadata": {},
   "outputs": [
    {
     "data": {
      "text/plain": [
       "{1: 'a', 3: 5}"
      ]
     },
     "execution_count": 17,
     "metadata": {},
     "output_type": "execute_result"
    }
   ],
   "source": [
    "a = {1:'a'}\n",
    "a[3] = 5\n",
    "a"
   ]
  },
  {
   "cell_type": "code",
   "execution_count": null,
   "id": "ee189a46",
   "metadata": {},
   "outputs": [],
   "source": []
  }
 ],
 "metadata": {
  "kernelspec": {
   "display_name": "Python 3 (ipykernel)",
   "language": "python",
   "name": "python3"
  },
  "language_info": {
   "codemirror_mode": {
    "name": "ipython",
    "version": 3
   },
   "file_extension": ".py",
   "mimetype": "text/x-python",
   "name": "python",
   "nbconvert_exporter": "python",
   "pygments_lexer": "ipython3",
   "version": "3.10.5"
  }
 },
 "nbformat": 4,
 "nbformat_minor": 5
}
